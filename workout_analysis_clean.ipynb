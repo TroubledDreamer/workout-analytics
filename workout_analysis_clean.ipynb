{
 "cells": [
  {
   "cell_type": "markdown",
   "id": "91631d07",
   "metadata": {},
   "source": [
    "\n",
    "# 🏋️ Workout Analytics — Clean Notebook\n",
    "\n",
    "This notebook loads your workout CSV, cleans the data, and produces **variation-aware** analytics:\n",
    "- Data loading & cleaning\n",
    "- Unit tagging (kg vs machine level)\n",
    "- Weekly trends (kg vs level — separated)\n",
    "- % changes (kg vs level)\n",
    "- Volume & intensity trends (by Activity & Variation)\n",
    "- PRs per Activity & Variation\n",
    "- Recovery gaps analysis (>7 days)\n",
    "\n",
    "> Tip: Select the kernel for your Conda env (e.g., `workout-analytics`).\n"
   ]
  },
  {
   "cell_type": "markdown",
   "id": "7ac85bfa",
   "metadata": {},
   "source": [
    "## 0) Configuration"
   ]
  },
  {
   "cell_type": "code",
   "execution_count": null,
   "id": "20b4fd74",
   "metadata": {},
   "outputs": [],
   "source": [
    "\n",
    "from pathlib import Path\n",
    "\n",
    "# Set your input CSV path here:\n",
    "CSV_PATH = Path(\"data/Workout Data - Sheet1.csv\")  # change if needed\n",
    "\n",
    "# Output folder for CSVs/plots\n",
    "OUTDIR = Path(\"out\")\n",
    "OUTDIR.mkdir(parents=True, exist_ok=True)\n",
    "print(f\"Using CSV: {CSV_PATH.resolve()}\")\n",
    "print(f\"Outputs will be saved to: {OUTDIR.resolve()}\")\n"
   ]
  },
  {
   "cell_type": "markdown",
   "id": "135a3f5c",
   "metadata": {},
   "source": [
    "## 1) Imports"
   ]
  },
  {
   "cell_type": "code",
   "execution_count": null,
   "id": "29a769cd",
   "metadata": {},
   "outputs": [],
   "source": [
    "\n",
    "import pandas as pd\n",
    "import matplotlib.pyplot as plt\n"
   ]
  },
  {
   "cell_type": "markdown",
   "id": "a61723c2",
   "metadata": {},
   "source": [
    "## 2) Helper Functions"
   ]
  },
  {
   "cell_type": "code",
   "execution_count": null,
   "id": "7ca1f302",
   "metadata": {},
   "outputs": [],
   "source": [
    "\n",
    "def label_row(activity: str, variation: str) -> str:\n",
    "    v = \"(none)\" if pd.isna(variation) or str(variation).strip() == \"\" else str(variation).strip()\n",
    "    return f\"{str(activity).strip()} — {v}\"\n",
    "\n",
    "def weekly_pivot_by_unit(df: pd.DataFrame, unit: str) -> pd.DataFrame:\n",
    "    \"\"\"Weekly average by Activity for a given unit ('kg' or 'level').\"\"\"\n",
    "    d = df[df[\"Weight_Unit\"] == unit].copy()\n",
    "    if d.empty:\n",
    "        return pd.DataFrame()\n",
    "    weekly = (\n",
    "        d.groupby([pd.Grouper(key=\"Date\", freq=\"W-MON\"), \"Activity\"])[\"Weight (kg)\"]\n",
    "         .mean()\n",
    "         .reset_index()\n",
    "         .sort_values([\"Activity\", \"Date\"])\n",
    "    )\n",
    "    return weekly.pivot(index=\"Date\", columns=\"Activity\", values=\"Weight (kg)\")\n",
    "\n",
    "def weekly_pivot_by_unit_with_variation(df: pd.DataFrame, unit: str) -> pd.DataFrame:\n",
    "    \"\"\"Weekly average by (Activity, Variation) for a given unit.\"\"\"\n",
    "    d = df[df[\"Weight_Unit\"] == unit].copy()\n",
    "    if d.empty:\n",
    "        return pd.DataFrame()\n",
    "    weekly = (\n",
    "        d.groupby([pd.Grouper(key=\"Date\", freq=\"W-MON\"), \"Activity\", \"Variation\"])[\"Weight (kg)\"]\n",
    "         .mean()\n",
    "         .reset_index()\n",
    "    )\n",
    "    weekly[\"__label__\"] = [label_row(a, v) for a, v in zip(weekly[\"Activity\"], weekly[\"Variation\"])]\n",
    "    wide = weekly.pivot(index=\"Date\", columns=\"__label__\", values=\"Weight (kg)\")\n",
    "    return wide.sort_index(axis=1)\n",
    "\n",
    "def percent_change_from_first_to_last(wide: pd.DataFrame) -> pd.Series:\n",
    "    \"\"\"% change from first to last non-NaN week for each column.\"\"\"\n",
    "    if wide.empty:\n",
    "        return pd.Series(dtype=float)\n",
    "    out = {}\n",
    "    for col in wide.columns:\n",
    "        s = wide[col].dropna()\n",
    "        if len(s) > 1 and s.iloc[0] != 0:\n",
    "            out[col] = (s.iloc[-1] - s.iloc[0]) / s.iloc[0] * 100.0\n",
    "    return pd.Series(out).sort_values(ascending=False)\n",
    "\n",
    "def bar_chart(series: pd.Series, title: str, outfile: Path | None = None):\n",
    "    if series.empty:\n",
    "        print(f\"No data to plot for: {title}\")\n",
    "        return\n",
    "    plt.figure(figsize=(10, 5))\n",
    "    series.round(2).plot(kind=\"bar\")\n",
    "    plt.title(title)\n",
    "    plt.ylabel(\"Percent Change (%)\")\n",
    "    plt.xlabel(\"Exercise\")\n",
    "    plt.xticks(rotation=45, ha=\"right\")\n",
    "    plt.grid(True, axis=\"y\")\n",
    "    plt.tight_layout()\n",
    "    if outfile:\n",
    "        plt.savefig(outfile, dpi=160)\n",
    "    plt.show()\n"
   ]
  },
  {
   "cell_type": "markdown",
   "id": "938c3cb3",
   "metadata": {},
   "source": [
    "## 3) Load & Clean Data"
   ]
  },
  {
   "cell_type": "code",
   "execution_count": null,
   "id": "dcf4a8f3",
   "metadata": {},
   "outputs": [],
   "source": [
    "\n",
    "# Load\n",
    "df = pd.read_csv(CSV_PATH)\n",
    "\n",
    "# Basic cleaning\n",
    "df[\"Date\"] = pd.to_datetime(df[\"Date\"], errors=\"coerce\")\n",
    "for col in [\"Reps\", \"Weight (kg)\", \"Set #\"]:\n",
    "    if col in df:\n",
    "        df[col] = pd.to_numeric(df[col], errors=\"coerce\")\n",
    "\n",
    "# Normalize text\n",
    "if \"Activity\" in df:\n",
    "    df[\"Activity\"] = df[\"Activity\"].astype(str).str.strip().str.lower()\n",
    "if \"Variation\" in df:\n",
    "    df[\"Variation\"] = df[\"Variation\"].astype(str).str.strip().str.lower()\n",
    "if \"Training Type\" in df:\n",
    "    df[\"Training Type\"] = df[\"Training Type\"].astype(str).str.strip().str.lower()\n",
    "\n",
    "# Example rule: fill bench press missing variation as 'flat'\n",
    "mask_bp_nan = (df[\"Activity\"] == \"bench press\") & (df[\"Variation\"].isin([None, '', 'nan']))\n",
    "df.loc[mask_bp_nan, \"Variation\"] = \"flat\"\n",
    "\n",
    "print(\"Rows:\", len(df))\n",
    "print(\"Date range:\", df[\"Date\"].min(), \"→\", df[\"Date\"].max())\n",
    "df.head()\n"
   ]
  },
  {
   "cell_type": "markdown",
   "id": "888908bf",
   "metadata": {},
   "source": [
    "## 4) Tag Units (kg vs level)"
   ]
  },
  {
   "cell_type": "code",
   "execution_count": null,
   "id": "91fae929",
   "metadata": {},
   "outputs": [],
   "source": [
    "\n",
    "# Define activities that use numbered machine levels (edit as needed)\n",
    "machine_number_activities = [\n",
    "    \"leg curls\",\n",
    "    \"lever seated row\",\n",
    "    # \"seated chest fly\",   # moved to kg per your update\n",
    "    \"lat pulldown\",\n",
    "    # \"calf raise\",         # moved to kg per your update\n",
    "    \"leg extension\",\n",
    "    \"rotary trunk twists\"\n",
    "]\n",
    "\n",
    "df[\"Weight_Unit\"] = df[\"Activity\"].apply(lambda x: \"level\" if x in machine_number_activities else \"kg\")\n",
    "\n",
    "# Manual fixes: ensure specific exercises are kg\n",
    "df.loc[df[\"Activity\"] == \"seated chest fly\", \"Weight_Unit\"] = \"kg\"\n",
    "df.loc[df[\"Activity\"] == \"chest fly\", \"Weight_Unit\"] = \"kg\"\n",
    "df.loc[df[\"Activity\"] == \"calf raise\", \"Weight_Unit\"] = \"kg\"\n",
    "\n",
    "df.head()\n"
   ]
  },
  {
   "cell_type": "markdown",
   "id": "b04b6eb8",
   "metadata": {},
   "source": [
    "## 5) Overview Stats"
   ]
  },
  {
   "cell_type": "code",
   "execution_count": null,
   "id": "85a4ad87",
   "metadata": {},
   "outputs": [],
   "source": [
    "\n",
    "info = {\n",
    "    \"total_sessions\": df[\"Date\"].nunique(),\n",
    "    \"unique_activities\": df[\"Activity\"].nunique(),\n",
    "    \"unique_variations\": df[\"Variation\"].nunique(),\n",
    "    \"total_sets\": len(df),\n",
    "    \"avg_reps_per_set\": df[\"Reps\"].mean(),\n",
    "    \"avg_logged_weight\": df[\"Weight (kg)\"].mean(),\n",
    "}\n",
    "pd.Series(info)\n"
   ]
  },
  {
   "cell_type": "markdown",
   "id": "fe786f19",
   "metadata": {},
   "source": [
    "## 6) Weekly Progression (KG vs Level — separated)"
   ]
  },
  {
   "cell_type": "code",
   "execution_count": null,
   "id": "f5adc3e1",
   "metadata": {},
   "outputs": [],
   "source": [
    "\n",
    "weekly_kg = weekly_pivot_by_unit(df, \"kg\")\n",
    "weekly_level = weekly_pivot_by_unit(df, \"level\")\n",
    "\n",
    "# Plot kg-based trends\n",
    "plt.figure(figsize=(10,6))\n",
    "for lift in weekly_kg.columns:\n",
    "    plt.plot(weekly_kg.index, weekly_kg[lift], marker=\"o\", label=lift)\n",
    "plt.title(\"Weekly Progression — KG-based Exercises\")\n",
    "plt.xlabel(\"Week\"); plt.ylabel(\"Average Weight (kg)\")\n",
    "plt.legend(); plt.grid(True); plt.tight_layout(); plt.show()\n",
    "\n",
    "# Plot level-based trends\n",
    "plt.figure(figsize=(10,6))\n",
    "for lift in weekly_level.columns:\n",
    "    plt.plot(weekly_level.index, weekly_level[lift], marker=\"o\", label=lift)\n",
    "plt.title(\"Weekly Progression — Machine Level Exercises\")\n",
    "plt.xlabel(\"Week\"); plt.ylabel(\"Average Machine Level\")\n",
    "plt.legend(); plt.grid(True); plt.tight_layout(); plt.show()\n"
   ]
  },
  {
   "cell_type": "markdown",
   "id": "212afb1b",
   "metadata": {},
   "source": [
    "## 7) % Change (KG vs Level)"
   ]
  },
  {
   "cell_type": "code",
   "execution_count": null,
   "id": "46be29aa",
   "metadata": {},
   "outputs": [],
   "source": [
    "\n",
    "pct_kg = percent_change_from_first_to_last(weekly_kg)\n",
    "pct_level = percent_change_from_first_to_last(weekly_level)\n",
    "\n",
    "display(pct_kg.head(10).round(2))\n",
    "display(pct_level.head(10).round(2))\n",
    "\n",
    "bar_chart(pct_kg.head(5),  \"Top 5 Gains (KG-based)\",   OUTDIR / \"top5_gains_kg.png\")\n",
    "bar_chart(pct_kg.tail(5),  \"Top 5 Drops (KG-based)\",   OUTDIR / \"top5_drops_kg.png\")\n",
    "bar_chart(pct_level.head(5), \"Top 5 Gains (Machine Level)\", OUTDIR / \"top5_gains_level.png\")\n",
    "bar_chart(pct_level.tail(5), \"Top 5 Drops (Machine Level)\", OUTDIR / \"top5_drops_level.png\")\n"
   ]
  },
  {
   "cell_type": "markdown",
   "id": "ac224769",
   "metadata": {},
   "source": [
    "## 8) Volume & Intensity (by Activity & Variation; KG only)"
   ]
  },
  {
   "cell_type": "code",
   "execution_count": null,
   "id": "d3c2e5f2",
   "metadata": {},
   "outputs": [],
   "source": [
    "\n",
    "df_kg = df[df[\"Weight_Unit\"] == \"kg\"].copy()\n",
    "df_kg[\"Volume\"] = df_kg[\"Reps\"] * df_kg[\"Weight (kg)\"]\n",
    "\n",
    "# Weekly Volume\n",
    "weekly_volume = (\n",
    "    df_kg.groupby([pd.Grouper(key=\"Date\", freq=\"W-MON\"), \"Activity\", \"Variation\"])[\"Volume\"]\n",
    "        .sum().reset_index()\n",
    ")\n",
    "weekly_volume[\"Label\"] = [label_row(a, v) for a, v in zip(weekly_volume[\"Activity\"], weekly_volume[\"Variation\"])]\n",
    "\n",
    "plt.figure(figsize=(10,6))\n",
    "for lbl in weekly_volume[\"Label\"].unique():\n",
    "    d = weekly_volume[weekly_volume[\"Label\"] == lbl]\n",
    "    plt.plot(d[\"Date\"], d[\"Volume\"], marker=\"o\", label=lbl)\n",
    "plt.title(\"Weekly Training Volume — Activity & Variation\")\n",
    "plt.ylabel(\"Total Volume (kg × reps)\"); plt.xlabel(\"Week\")\n",
    "plt.legend(); plt.grid(True); plt.tight_layout(); plt.show()\n",
    "\n",
    "# Weekly Intensity (Avg per set)\n",
    "weekly_intensity = (\n",
    "    df_kg.groupby([pd.Grouper(key=\"Date\", freq=\"W-MON\"), \"Activity\", \"Variation\"])[\"Weight (kg)\"]\n",
    "        .mean().reset_index()\n",
    ")\n",
    "weekly_intensity[\"Label\"] = [label_row(a, v) for a, v in zip(weekly_intensity[\"Activity\"], weekly_intensity[\"Variation\"])]\n",
    "\n",
    "plt.figure(figsize=(10,6))\n",
    "for lbl in weekly_intensity[\"Label\"].unique():\n",
    "    d = weekly_intensity[weekly_intensity[\"Label\"] == lbl]\n",
    "    plt.plot(d[\"Date\"], d[\"Weight (kg)\"], marker=\"o\", label=lbl)\n",
    "plt.title(\"Weekly Intensity (Avg Weight per Set) — Activity & Variation\")\n",
    "plt.ylabel(\"Weight (kg)\"); plt.xlabel(\"Week\")\n",
    "plt.legend(); plt.grid(True); plt.tight_layout(); plt.show()\n"
   ]
  },
  {
   "cell_type": "markdown",
   "id": "6e6ca9af",
   "metadata": {},
   "source": [
    "## 9) Personal Records (by Activity & Variation; KG only)"
   ]
  },
  {
   "cell_type": "code",
   "execution_count": null,
   "id": "28657e50",
   "metadata": {},
   "outputs": [],
   "source": [
    "\n",
    "pr_table = (\n",
    "    df_kg.groupby([\"Activity\", \"Variation\"])[\"Weight (kg)\"]\n",
    "        .max().sort_values(ascending=False)\n",
    ")\n",
    "print(\"🏆 Personal Records (kg) by Activity & Variation:\")\n",
    "display(pr_table.to_frame(\"PR (kg)\"))\n",
    "\n",
    "# Bar plot (optional; can be large if many exercises)\n",
    "pr_plot = pr_table.copy()\n",
    "pr_plot.index = [label_row(a, v) for a, v in pr_plot.index]\n",
    "plt.figure(figsize=(10,6))\n",
    "pr_plot.plot(kind=\"bar\")\n",
    "plt.title(\"Personal Records (kg) — Activity & Variation\")\n",
    "plt.ylabel(\"Max Weight (kg)\")\n",
    "plt.xticks(rotation=45, ha=\"right\")\n",
    "plt.tight_layout()\n",
    "plt.show()\n",
    "\n",
    "# Export\n",
    "pr_table.to_csv(OUTDIR / \"prs_kg_by_activity_variation.csv\")\n"
   ]
  },
  {
   "cell_type": "markdown",
   "id": "d67d916c",
   "metadata": {},
   "source": [
    "## 10) Recovery Effect (>7 day gaps; KG only)"
   ]
  },
  {
   "cell_type": "code",
   "execution_count": null,
   "id": "ef1332b7",
   "metadata": {},
   "outputs": [],
   "source": [
    "\n",
    "df_sorted = df_kg.sort_values(\"Date\").copy()\n",
    "df_sorted[\"Gap_days\"] = df_sorted[\"Date\"].diff().dt.days\n",
    "gaps = df_sorted[df_sorted[\"Gap_days\"] > 7][\"Date\"]\n",
    "\n",
    "if not gaps.empty:\n",
    "    print(\"\\n🛌 Recovery Effect Analysis (overall kg across last/next 5 sets):\")\n",
    "    for gap_date in gaps:\n",
    "        before_vals = df_sorted[df_sorted[\"Date\"] < gap_date].tail(5)[\"Weight (kg)\"]\n",
    "        after_vals  = df_sorted[df_sorted[\"Date\"] > gap_date].head(5)[\"Weight (kg)\"]\n",
    "        if len(before_vals) == 0 or before_vals.mean() == 0 or len(after_vals) == 0:\n",
    "            continue\n",
    "        change = (after_vals.mean() - before_vals.mean()) / before_vals.mean() * 100\n",
    "        print(f\"Gap starting {gap_date.date()}: Avg kg change = {change:.2f}% \"\n",
    "              f\"(before={before_vals.mean():.1f}, after={after_vals.mean():.1f})\")\n",
    "else:\n",
    "    print(\"\\nNo gaps over 7 days found — consistent training!\")\n"
   ]
  },
  {
   "cell_type": "markdown",
   "id": "a6e4c80b",
   "metadata": {},
   "source": [
    "## 11) Save Cleaned CSV (optional)"
   ]
  },
  {
   "cell_type": "code",
   "execution_count": null,
   "id": "4708e404",
   "metadata": {},
   "outputs": [],
   "source": [
    "\n",
    "# Write a cleaned copy for future use\n",
    "clean_path = OUTDIR / \"Workout Data - cleaned.csv\"\n",
    "df.to_csv(clean_path, index=False)\n",
    "print(f\"Saved cleaned CSV to: {clean_path.resolve()}\")\n"
   ]
  }
 ],
 "metadata": {},
 "nbformat": 4,
 "nbformat_minor": 5
}
